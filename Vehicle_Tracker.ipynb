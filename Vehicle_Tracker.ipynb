{
  "nbformat": 4,
  "nbformat_minor": 0,
  "metadata": {
    "colab": {
      "name": "Vehicle_Tracker.ipynb",
      "provenance": [],
      "collapsed_sections": [],
      "authorship_tag": "ABX9TyMpqLhmsBfvbL0FNtj6+w4a",
      "include_colab_link": true
    },
    "kernelspec": {
      "name": "python3",
      "display_name": "Python 3"
    }
  },
  "cells": [
    {
      "cell_type": "markdown",
      "metadata": {
        "id": "view-in-github",
        "colab_type": "text"
      },
      "source": [
        "<a href=\"https://colab.research.google.com/github/srimanthtenneti/Secure-vehicle-tracking/blob/main/Vehicle_Tracker.ipynb\" target=\"_parent\"><img src=\"https://colab.research.google.com/assets/colab-badge.svg\" alt=\"Open In Colab\"/></a>"
      ]
    },
    {
      "cell_type": "markdown",
      "metadata": {
        "id": "uwI1fZZOMJN3"
      },
      "source": [
        "# Truck end"
      ]
    },
    {
      "cell_type": "code",
      "metadata": {
        "id": "GyIMZZNrKapk"
      },
      "source": [
        "lat = \"33.6778\"\r\n",
        "lon = \"75.8412\""
      ],
      "execution_count": 43,
      "outputs": []
    },
    {
      "cell_type": "code",
      "metadata": {
        "colab": {
          "base_uri": "https://localhost:8080/"
        },
        "id": "h1Y2cfznJVUO",
        "outputId": "9751706f-522c-4027-b933-4451898cb1d6"
      },
      "source": [
        "import base64\r\n",
        "import os\r\n",
        "from cryptography.fernet import Fernet\r\n",
        "from cryptography.hazmat.primitives import hashes\r\n",
        "from cryptography.hazmat.primitives.kdf.pbkdf2 import PBKDF2HMAC\r\n",
        "password = b\"password\"\r\n",
        "salt = os.urandom(16)\r\n",
        "kdf = PBKDF2HMAC(\r\n",
        "    algorithm=hashes.SHA256(),\r\n",
        "    length=32,\r\n",
        "    salt=salt,\r\n",
        "    iterations=100000,\r\n",
        ")\r\n",
        "key = base64.urlsafe_b64encode(kdf.derive(password))\r\n",
        "f = Fernet(key)\r\n",
        "lat = f.encrypt(bytes(input(\"Enter latitude : \").encode('utf-8')))\r\n",
        "lon = f.encrypt(bytes(input(\"Enter longitude :\").encode('utf-8')))"
      ],
      "execution_count": 44,
      "outputs": [
        {
          "output_type": "stream",
          "text": [
            "Enter latitude : 33.6778\n",
            "Enter longitude :75.8412\n"
          ],
          "name": "stdout"
        }
      ]
    },
    {
      "cell_type": "code",
      "metadata": {
        "colab": {
          "base_uri": "https://localhost:8080/"
        },
        "id": "Cx6rGyLEKthR",
        "outputId": "03b24990-1848-40c2-db1c-b5ba0c700886"
      },
      "source": [
        "lat"
      ],
      "execution_count": 45,
      "outputs": [
        {
          "output_type": "execute_result",
          "data": {
            "text/plain": [
              "b'gAAAAABf-aqPfT5iNaIQ0jZhtAIqv4-8dkbxzXahg-i_psV11A90i5MBqjuaWA225qPhcPtUQcUMv2B_Lqmrl3iCgDOFa5lNJA=='"
            ]
          },
          "metadata": {
            "tags": []
          },
          "execution_count": 45
        }
      ]
    },
    {
      "cell_type": "code",
      "metadata": {
        "colab": {
          "base_uri": "https://localhost:8080/"
        },
        "id": "u_CwEKn6MClz",
        "outputId": "3e37ba46-62f1-4e4a-bbd3-978d18976b3c"
      },
      "source": [
        "lon"
      ],
      "execution_count": 46,
      "outputs": [
        {
          "output_type": "execute_result",
          "data": {
            "text/plain": [
              "b'gAAAAABf-aqWZWYUkP6tXYtlfyubjNqyI__GrgnxWyUEp_Wj_slcLp9xxE42yYeb5q1kr4ES4p9ay8FhMuAenUYvZcphuOVWIA=='"
            ]
          },
          "metadata": {
            "tags": []
          },
          "execution_count": 46
        }
      ]
    },
    {
      "cell_type": "markdown",
      "metadata": {
        "id": "KyrCDCBuMSKj"
      },
      "source": [
        "# Control Room end"
      ]
    },
    {
      "cell_type": "code",
      "metadata": {
        "id": "0402oP2TMDq-"
      },
      "source": [
        "import folium"
      ],
      "execution_count": 47,
      "outputs": []
    },
    {
      "cell_type": "code",
      "metadata": {
        "colab": {
          "base_uri": "https://localhost:8080/",
          "height": 866
        },
        "id": "D8c02WSNMVGd",
        "outputId": "e72512e9-8845-4a77-c6f0-498a7a631006"
      },
      "source": [
        "map = folium.Map(location = [33.6778,75.8412],zoom_start=8)\r\n",
        "tooltip = \"Truck 1\"\r\n",
        "folium.Marker(\r\n",
        "    [33.6778,75.8412], popup = f.decrypt(lat).decode('utf-8') + \" \" + f.decrypt(lon).decode('utf-8') , tooltip=tooltip\r\n",
        ").add_to(map)\r\n",
        "\r\n",
        "map"
      ],
      "execution_count": 48,
      "outputs": [
        {
          "output_type": "execute_result",
          "data": {
            "text/html": [
              "<div style=\"width:100%;\"><div style=\"position:relative;width:100%;height:0;padding-bottom:60%;\"><span style=\"color:#565656\">Make this Notebook Trusted to load map: File -> Trust Notebook</span><iframe src=\"about:blank\" style=\"position:absolute;width:100%;height:100%;left:0;top:0;border:none !important;\" data-html=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 onload=\"this.contentDocument.open();this.contentDocument.write(atob(this.getAttribute('data-html')));this.contentDocument.close();\" allowfullscreen webkitallowfullscreen mozallowfullscreen></iframe></div></div>"
            ],
            "text/plain": [
              "<folium.folium.Map at 0x7f2dc560d780>"
            ]
          },
          "metadata": {
            "tags": []
          },
          "execution_count": 48
        }
      ]
    }
  ]
}